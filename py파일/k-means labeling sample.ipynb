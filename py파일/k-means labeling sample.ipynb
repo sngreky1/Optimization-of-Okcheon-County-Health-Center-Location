{
 "cells": [
  {
   "cell_type": "markdown",
   "id": "38a4a0ea",
   "metadata": {},
   "source": [
    "### 아마 # 클러스터링 결과 가져오기, 결과를 데이터프레임에 추가 부분만 기존 코드에 추가하시면 될 거에요!\n",
    "나머지는 해놓은 코드랑 같을 거에요"
   ]
  },
  {
   "cell_type": "code",
   "execution_count": null,
   "id": "37dc96a0",
   "metadata": {},
   "outputs": [],
   "source": [
    "from sklearn.cluster import KMeans\n",
    "\n",
    "\n",
    "# k-means 클러스터링을 위한 입력 데이터 준비\n",
    "X = dfXw[['Latitude', 'Longitude','loc']].values\n",
    "\n",
    "# k의 개수 설정\n",
    "k = 7\n",
    "\n",
    "# KMeans 알고리즘을 사용하여 클러스터링 수행\n",
    "kmeans2 = KMeans(n_clusters=k, n_init=10)\n",
    "kmeans2.fit(X)\n",
    "y_kmeans2 = kmeans2.predict(X)\n",
    "\n",
    "# 중심점의 좌표 출력\n",
    "#centroids = kmeans2.cluster_centers_\n",
    "#for i in range(k):\n",
    " #   print(f\"Centroid {i+1}: ({centroids[i, 0]}, {centroids[i, 1]})\")\n",
    "\n",
    "\n",
    "# 클러스터링 결과 가져오기\n",
    "labels = kmeans2.labels_\n",
    "\n",
    "#클러스터링 결과를 데이터 프레임에 추가\n",
    "dfXw['KCluster'] = kmeans2.labels_\n",
    "print(dfXw.head())"
   ]
  },
  {
   "cell_type": "markdown",
   "id": "d3f8f354",
   "metadata": {},
   "source": [
    "### 이건 혹시 kmeans 지도 말고 따로 시각화 할 때 쓴 건데 시각화 하셨는지 모르겠어서 일단 보냅니다"
   ]
  },
  {
   "cell_type": "code",
   "execution_count": null,
   "id": "8898a6a1",
   "metadata": {},
   "outputs": [],
   "source": [
    "# 클러스터링 결과 시각화\n",
    "plt.figure(figsize=(8, 8))\n",
    "plt.scatter(X[:, 0], X[:, 1], c=y_kmeans2,cmap='viridis',s=10)\n",
    "plt.scatter(kmeans2.cluster_centers_[:, 0], kmeans2.cluster_centers_[:, 1], marker='*', color='red',s=100,alpha=0.5, label='Centroids')\n",
    "\n",
    "plt.xlabel('Latitude')\n",
    "plt.ylabel('Longitude')\n",
    "\n",
    "plt.title('Warehouse k-means clustering result')\n",
    "plt.legend()\n",
    "plt.show()"
   ]
  }
 ],
 "metadata": {
  "kernelspec": {
   "display_name": "Python 3",
   "language": "python",
   "name": "python3"
  },
  "language_info": {
   "codemirror_mode": {
    "name": "ipython",
    "version": 3
   },
   "file_extension": ".py",
   "mimetype": "text/x-python",
   "name": "python",
   "nbconvert_exporter": "python",
   "pygments_lexer": "ipython3",
   "version": "3.8.8"
  }
 },
 "nbformat": 4,
 "nbformat_minor": 5
}
